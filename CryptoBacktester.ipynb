{
 "cells": [
  {
   "cell_type": "code",
   "execution_count": 9,
   "metadata": {
    "scrolled": true
   },
   "outputs": [],
   "source": [
    "# load package\n",
    "from cryptory import Cryptory\n",
    "import numpy as np\n",
    "import pandas as pd\n",
    "import seaborn as sns\n",
    "import matplotlib.pyplot as plt\n",
    "import plotly.plotly as py\n",
    "import plotly.graph_objs as go\n",
    "import ssl\n",
    "\n",
    "ssl._create_default_https_context = ssl._create_unverified_context\n",
    "np.set_printoptions(suppress=True)"
   ]
  },
  {
   "cell_type": "code",
   "execution_count": 10,
   "metadata": {},
   "outputs": [
    {
     "data": {
      "text/html": [
       "<div>\n",
       "<style scoped>\n",
       "    .dataframe tbody tr th:only-of-type {\n",
       "        vertical-align: middle;\n",
       "    }\n",
       "\n",
       "    .dataframe tbody tr th {\n",
       "        vertical-align: top;\n",
       "    }\n",
       "\n",
       "    .dataframe thead th {\n",
       "        text-align: right;\n",
       "    }\n",
       "</style>\n",
       "<table border=\"1\" class=\"dataframe\">\n",
       "  <thead>\n",
       "    <tr style=\"text-align: right;\">\n",
       "      <th></th>\n",
       "      <th>date</th>\n",
       "      <th>open</th>\n",
       "      <th>high</th>\n",
       "      <th>low</th>\n",
       "      <th>close</th>\n",
       "      <th>volume</th>\n",
       "      <th>marketcap</th>\n",
       "    </tr>\n",
       "  </thead>\n",
       "  <tbody>\n",
       "    <tr>\n",
       "      <th>0</th>\n",
       "      <td>2019-05-04</td>\n",
       "      <td>5769.20</td>\n",
       "      <td>5886.89</td>\n",
       "      <td>5645.47</td>\n",
       "      <td>5831.17</td>\n",
       "      <td>17567780766</td>\n",
       "      <td>103112021259</td>\n",
       "    </tr>\n",
       "    <tr>\n",
       "      <th>1</th>\n",
       "      <td>2019-05-03</td>\n",
       "      <td>5505.55</td>\n",
       "      <td>5865.88</td>\n",
       "      <td>5490.20</td>\n",
       "      <td>5768.29</td>\n",
       "      <td>18720780006</td>\n",
       "      <td>101986240859</td>\n",
       "    </tr>\n",
       "    <tr>\n",
       "      <th>2</th>\n",
       "      <td>2019-05-02</td>\n",
       "      <td>5402.42</td>\n",
       "      <td>5522.26</td>\n",
       "      <td>5394.22</td>\n",
       "      <td>5505.28</td>\n",
       "      <td>14644460907</td>\n",
       "      <td>97330112147</td>\n",
       "    </tr>\n",
       "    <tr>\n",
       "      <th>3</th>\n",
       "      <td>2019-05-01</td>\n",
       "      <td>5350.91</td>\n",
       "      <td>5418.00</td>\n",
       "      <td>5347.65</td>\n",
       "      <td>5402.70</td>\n",
       "      <td>13679528236</td>\n",
       "      <td>95501110091</td>\n",
       "    </tr>\n",
       "    <tr>\n",
       "      <th>4</th>\n",
       "      <td>2019-04-30</td>\n",
       "      <td>5247.73</td>\n",
       "      <td>5363.26</td>\n",
       "      <td>5224.19</td>\n",
       "      <td>5350.73</td>\n",
       "      <td>13878964574</td>\n",
       "      <td>94573826827</td>\n",
       "    </tr>\n",
       "  </tbody>\n",
       "</table>\n",
       "</div>"
      ],
      "text/plain": [
       "        date     open     high      low    close       volume     marketcap\n",
       "0 2019-05-04  5769.20  5886.89  5645.47  5831.17  17567780766  103112021259\n",
       "1 2019-05-03  5505.55  5865.88  5490.20  5768.29  18720780006  101986240859\n",
       "2 2019-05-02  5402.42  5522.26  5394.22  5505.28  14644460907   97330112147\n",
       "3 2019-05-01  5350.91  5418.00  5347.65  5402.70  13679528236   95501110091\n",
       "4 2019-04-30  5247.73  5363.26  5224.19  5350.73  13878964574   94573826827"
      ]
     },
     "execution_count": 10,
     "metadata": {},
     "output_type": "execute_result"
    }
   ],
   "source": [
    "# initialise object \n",
    "# pull data from start of 2017 to present day\n",
    "my_cryptory = Cryptory(from_date = \"2017-01-01\")\n",
    "\n",
    "# get historical bitcoin prices from coinmarketcap\n",
    "my_cryptory.extract_coinmarketcap(\"bitcoin\").head()"
   ]
  },
  {
   "cell_type": "code",
   "execution_count": 43,
   "metadata": {},
   "outputs": [],
   "source": [
    "all_coins_df = my_cryptory.extract_bitinfocharts(\"btc\")\n",
    "# coins of interest\n",
    "bitinfocoins = [\"btc\", \"eth\", \"xrp\", \"ltc\", \"dash\", \"xmr\", \"doge\"]\n",
    "for coin in bitinfocoins[1:]:\n",
    "    all_coins_df = all_coins_df.merge(my_cryptory.extract_bitinfocharts(coin), on=\"date\", how=\"left\")"
   ]
  },
  {
   "cell_type": "code",
   "execution_count": 44,
   "metadata": {},
   "outputs": [
    {
     "data": {
      "text/html": [
       "<div>\n",
       "<style scoped>\n",
       "    .dataframe tbody tr th:only-of-type {\n",
       "        vertical-align: middle;\n",
       "    }\n",
       "\n",
       "    .dataframe tbody tr th {\n",
       "        vertical-align: top;\n",
       "    }\n",
       "\n",
       "    .dataframe thead th {\n",
       "        text-align: right;\n",
       "    }\n",
       "</style>\n",
       "<table border=\"1\" class=\"dataframe\">\n",
       "  <thead>\n",
       "    <tr style=\"text-align: right;\">\n",
       "      <th></th>\n",
       "      <th>usd_price</th>\n",
       "      <th>btc_price</th>\n",
       "      <th>eth_price</th>\n",
       "      <th>xrp_price</th>\n",
       "      <th>ltc_price</th>\n",
       "      <th>dash_price</th>\n",
       "      <th>xmr_price</th>\n",
       "      <th>doge_price</th>\n",
       "    </tr>\n",
       "    <tr>\n",
       "      <th>date</th>\n",
       "      <th></th>\n",
       "      <th></th>\n",
       "      <th></th>\n",
       "      <th></th>\n",
       "      <th></th>\n",
       "      <th></th>\n",
       "      <th></th>\n",
       "      <th></th>\n",
       "    </tr>\n",
       "  </thead>\n",
       "  <tbody>\n",
       "    <tr>\n",
       "      <th>2017-01-01</th>\n",
       "      <td>1</td>\n",
       "      <td>970.988</td>\n",
       "      <td>8.233</td>\n",
       "      <td>0.00651</td>\n",
       "      <td>4.389</td>\n",
       "      <td>11.356</td>\n",
       "      <td>13.532</td>\n",
       "      <td>0.000224</td>\n",
       "    </tr>\n",
       "    <tr>\n",
       "      <th>2017-01-02</th>\n",
       "      <td>1</td>\n",
       "      <td>1010.000</td>\n",
       "      <td>8.182</td>\n",
       "      <td>0.00640</td>\n",
       "      <td>4.539</td>\n",
       "      <td>11.593</td>\n",
       "      <td>14.671</td>\n",
       "      <td>0.000222</td>\n",
       "    </tr>\n",
       "    <tr>\n",
       "      <th>2017-01-03</th>\n",
       "      <td>1</td>\n",
       "      <td>1017.000</td>\n",
       "      <td>8.811</td>\n",
       "      <td>0.00632</td>\n",
       "      <td>4.525</td>\n",
       "      <td>12.383</td>\n",
       "      <td>16.125</td>\n",
       "      <td>0.000220</td>\n",
       "    </tr>\n",
       "    <tr>\n",
       "      <th>2017-01-04</th>\n",
       "      <td>1</td>\n",
       "      <td>1075.000</td>\n",
       "      <td>10.440</td>\n",
       "      <td>0.00642</td>\n",
       "      <td>4.585</td>\n",
       "      <td>14.748</td>\n",
       "      <td>16.807</td>\n",
       "      <td>0.000226</td>\n",
       "    </tr>\n",
       "    <tr>\n",
       "      <th>2017-01-05</th>\n",
       "      <td>1</td>\n",
       "      <td>1045.000</td>\n",
       "      <td>10.479</td>\n",
       "      <td>0.00650</td>\n",
       "      <td>4.404</td>\n",
       "      <td>14.815</td>\n",
       "      <td>16.713</td>\n",
       "      <td>0.000225</td>\n",
       "    </tr>\n",
       "  </tbody>\n",
       "</table>\n",
       "</div>"
      ],
      "text/plain": [
       "            usd_price  btc_price  eth_price  xrp_price  ltc_price  dash_price  \\\n",
       "date                                                                            \n",
       "2017-01-01          1    970.988      8.233    0.00651      4.389      11.356   \n",
       "2017-01-02          1   1010.000      8.182    0.00640      4.539      11.593   \n",
       "2017-01-03          1   1017.000      8.811    0.00632      4.525      12.383   \n",
       "2017-01-04          1   1075.000     10.440    0.00642      4.585      14.748   \n",
       "2017-01-05          1   1045.000     10.479    0.00650      4.404      14.815   \n",
       "\n",
       "            xmr_price  doge_price  \n",
       "date                               \n",
       "2017-01-01     13.532    0.000224  \n",
       "2017-01-02     14.671    0.000222  \n",
       "2017-01-03     16.125    0.000220  \n",
       "2017-01-04     16.807    0.000226  \n",
       "2017-01-05     16.713    0.000225  "
      ]
     },
     "execution_count": 44,
     "metadata": {},
     "output_type": "execute_result"
    }
   ],
   "source": [
    "all_coins_df = all_coins_df.fillna(0)\n",
    "all_coins_df.set_index('date',inplace=True)\n",
    "all_coins_df.insert(0,\"usd_price\",1)\n",
    "all_coins_df = all_coins_df.reindex(index=all_coins_df.index[::-1])\n",
    "all_coins_df.head()"
   ]
  },
  {
   "cell_type": "code",
   "execution_count": 45,
   "metadata": {},
   "outputs": [
    {
     "data": {
      "text/plain": [
       "['usd_price',\n",
       " 'btc_price',\n",
       " 'eth_price',\n",
       " 'xrp_price',\n",
       " 'ltc_price',\n",
       " 'dash_price',\n",
       " 'xmr_price',\n",
       " 'doge_price']"
      ]
     },
     "execution_count": 45,
     "metadata": {},
     "output_type": "execute_result"
    }
   ],
   "source": [
    "tokens = all_coins_df.columns.tolist()\n",
    "tokens"
   ]
  },
  {
   "cell_type": "code",
   "execution_count": 46,
   "metadata": {},
   "outputs": [
    {
     "data": {
      "text/html": [
       "<div>\n",
       "<style scoped>\n",
       "    .dataframe tbody tr th:only-of-type {\n",
       "        vertical-align: middle;\n",
       "    }\n",
       "\n",
       "    .dataframe tbody tr th {\n",
       "        vertical-align: top;\n",
       "    }\n",
       "\n",
       "    .dataframe thead th {\n",
       "        text-align: right;\n",
       "    }\n",
       "</style>\n",
       "<table border=\"1\" class=\"dataframe\">\n",
       "  <thead>\n",
       "    <tr style=\"text-align: right;\">\n",
       "      <th></th>\n",
       "      <th>usd_price</th>\n",
       "      <th>btc_price</th>\n",
       "      <th>eth_price</th>\n",
       "      <th>xrp_price</th>\n",
       "      <th>ltc_price</th>\n",
       "      <th>dash_price</th>\n",
       "      <th>xmr_price</th>\n",
       "      <th>doge_price</th>\n",
       "    </tr>\n",
       "    <tr>\n",
       "      <th>date</th>\n",
       "      <th></th>\n",
       "      <th></th>\n",
       "      <th></th>\n",
       "      <th></th>\n",
       "      <th></th>\n",
       "      <th></th>\n",
       "      <th></th>\n",
       "      <th></th>\n",
       "    </tr>\n",
       "  </thead>\n",
       "  <tbody>\n",
       "    <tr>\n",
       "      <th>2019-05-01</th>\n",
       "      <td>1</td>\n",
       "      <td>5354.0</td>\n",
       "      <td>161.126</td>\n",
       "      <td>0.305</td>\n",
       "      <td>73.231</td>\n",
       "      <td>114.102</td>\n",
       "      <td>63.580</td>\n",
       "      <td>0.00250</td>\n",
       "    </tr>\n",
       "    <tr>\n",
       "      <th>2019-05-02</th>\n",
       "      <td>1</td>\n",
       "      <td>5432.0</td>\n",
       "      <td>160.495</td>\n",
       "      <td>0.304</td>\n",
       "      <td>73.269</td>\n",
       "      <td>116.763</td>\n",
       "      <td>64.995</td>\n",
       "      <td>0.00257</td>\n",
       "    </tr>\n",
       "    <tr>\n",
       "      <th>2019-05-03</th>\n",
       "      <td>1</td>\n",
       "      <td>5704.0</td>\n",
       "      <td>166.240</td>\n",
       "      <td>0.309</td>\n",
       "      <td>77.391</td>\n",
       "      <td>119.319</td>\n",
       "      <td>66.477</td>\n",
       "      <td>0.00266</td>\n",
       "    </tr>\n",
       "    <tr>\n",
       "      <th>2019-05-04</th>\n",
       "      <td>1</td>\n",
       "      <td>5750.0</td>\n",
       "      <td>164.132</td>\n",
       "      <td>0.302</td>\n",
       "      <td>77.448</td>\n",
       "      <td>120.244</td>\n",
       "      <td>67.009</td>\n",
       "      <td>0.00264</td>\n",
       "    </tr>\n",
       "    <tr>\n",
       "      <th>2019-05-05</th>\n",
       "      <td>1</td>\n",
       "      <td>5793.0</td>\n",
       "      <td>163.603</td>\n",
       "      <td>0.303</td>\n",
       "      <td>77.200</td>\n",
       "      <td>118.970</td>\n",
       "      <td>68.080</td>\n",
       "      <td>0.00262</td>\n",
       "    </tr>\n",
       "  </tbody>\n",
       "</table>\n",
       "</div>"
      ],
      "text/plain": [
       "            usd_price  btc_price  eth_price  xrp_price  ltc_price  dash_price  \\\n",
       "date                                                                            \n",
       "2019-05-01          1     5354.0    161.126      0.305     73.231     114.102   \n",
       "2019-05-02          1     5432.0    160.495      0.304     73.269     116.763   \n",
       "2019-05-03          1     5704.0    166.240      0.309     77.391     119.319   \n",
       "2019-05-04          1     5750.0    164.132      0.302     77.448     120.244   \n",
       "2019-05-05          1     5793.0    163.603      0.303     77.200     118.970   \n",
       "\n",
       "            xmr_price  doge_price  \n",
       "date                               \n",
       "2019-05-01     63.580     0.00250  \n",
       "2019-05-02     64.995     0.00257  \n",
       "2019-05-03     66.477     0.00266  \n",
       "2019-05-04     67.009     0.00264  \n",
       "2019-05-05     68.080     0.00262  "
      ]
     },
     "execution_count": 46,
     "metadata": {},
     "output_type": "execute_result"
    }
   ],
   "source": [
    "all_coins_df.tail()"
   ]
  },
  {
   "cell_type": "code",
   "execution_count": 47,
   "metadata": {},
   "outputs": [
    {
     "data": {
      "text/plain": [
       "DatetimeIndex(['2017-01-01', '2017-01-02', '2017-01-03', '2017-01-04',\n",
       "               '2017-01-05', '2017-01-06', '2017-01-07', '2017-01-08',\n",
       "               '2017-01-09', '2017-01-10',\n",
       "               ...\n",
       "               '2019-04-26', '2019-04-27', '2019-04-28', '2019-04-29',\n",
       "               '2019-04-30', '2019-05-01', '2019-05-02', '2019-05-03',\n",
       "               '2019-05-04', '2019-05-05'],\n",
       "              dtype='datetime64[ns]', name='date', length=855, freq=None)"
      ]
     },
     "execution_count": 47,
     "metadata": {},
     "output_type": "execute_result"
    }
   ],
   "source": [
    "all_coins_df.index"
   ]
  },
  {
   "cell_type": "code",
   "execution_count": 48,
   "metadata": {},
   "outputs": [],
   "source": [
    "data = []\n",
    "\n",
    "coinNames = iter(all_coins_df)\n",
    "next(coinNames)\n",
    "\n",
    "for index, coin in enumerate(tokens):\n",
    "    coin_chart_info = go.Scatter(\n",
    "        x = all_coins_df.index,\n",
    "        y = all_coins_df[coin].tolist(),\n",
    "        mode = 'lines',\n",
    "        name = coin[:-6])\n",
    "    data.append(coin_chart_info)\n",
    "    tokens[index] = coin[:-6]"
   ]
  },
  {
   "cell_type": "code",
   "execution_count": 49,
   "metadata": {},
   "outputs": [
    {
     "name": "stderr",
     "output_type": "stream",
     "text": [
      "/Users/chris/Google Drive/Uct/Academic/Financial Software Engineering/Take Home exam/Answers/Q3/CryptoPortfolioTester/venv/lib/python3.7/site-packages/IPython/core/display.py:689: UserWarning:\n",
      "\n",
      "Consider using IPython.display.IFrame instead\n",
      "\n"
     ]
    },
    {
     "data": {
      "text/html": [
       "<iframe id=\"igraph\" scrolling=\"no\" style=\"border:none;\" seamless=\"seamless\" src=\"https://plot.ly/~christopher.maree/28.embed\" height=\"525px\" width=\"100%\"></iframe>"
      ],
      "text/plain": [
       "<chart_studio.tools.PlotlyDisplay object>"
      ]
     },
     "execution_count": 49,
     "metadata": {},
     "output_type": "execute_result"
    }
   ],
   "source": [
    "layout = go.Layout(\n",
    "    title = \"Historic Price Over Time\")\n",
    "\n",
    "fig = dict(data=data, layout = layout)\n",
    "py.iplot(fig, filename='stacked-area-plot-hover')"
   ]
  },
  {
   "cell_type": "code",
   "execution_count": 50,
   "metadata": {},
   "outputs": [
    {
     "data": {
      "text/html": [
       "<div>\n",
       "<style scoped>\n",
       "    .dataframe tbody tr th:only-of-type {\n",
       "        vertical-align: middle;\n",
       "    }\n",
       "\n",
       "    .dataframe tbody tr th {\n",
       "        vertical-align: top;\n",
       "    }\n",
       "\n",
       "    .dataframe thead th {\n",
       "        text-align: right;\n",
       "    }\n",
       "</style>\n",
       "<table border=\"1\" class=\"dataframe\">\n",
       "  <thead>\n",
       "    <tr style=\"text-align: right;\">\n",
       "      <th></th>\n",
       "      <th>usd_price</th>\n",
       "      <th>btc_price</th>\n",
       "      <th>eth_price</th>\n",
       "      <th>xrp_price</th>\n",
       "      <th>ltc_price</th>\n",
       "      <th>dash_price</th>\n",
       "      <th>xmr_price</th>\n",
       "      <th>doge_price</th>\n",
       "    </tr>\n",
       "    <tr>\n",
       "      <th>date</th>\n",
       "      <th></th>\n",
       "      <th></th>\n",
       "      <th></th>\n",
       "      <th></th>\n",
       "      <th></th>\n",
       "      <th></th>\n",
       "      <th></th>\n",
       "      <th></th>\n",
       "    </tr>\n",
       "  </thead>\n",
       "  <tbody>\n",
       "    <tr>\n",
       "      <th>2017-01-01</th>\n",
       "      <td>1</td>\n",
       "      <td>970.988</td>\n",
       "      <td>8.233</td>\n",
       "      <td>0.00651</td>\n",
       "      <td>4.389</td>\n",
       "      <td>11.356</td>\n",
       "      <td>13.532</td>\n",
       "      <td>0.000224</td>\n",
       "    </tr>\n",
       "  </tbody>\n",
       "</table>\n",
       "</div>"
      ],
      "text/plain": [
       "            usd_price  btc_price  eth_price  xrp_price  ltc_price  dash_price  \\\n",
       "date                                                                            \n",
       "2017-01-01          1    970.988      8.233    0.00651      4.389      11.356   \n",
       "\n",
       "            xmr_price  doge_price  \n",
       "date                               \n",
       "2017-01-01     13.532    0.000224  "
      ]
     },
     "execution_count": 50,
     "metadata": {},
     "output_type": "execute_result"
    }
   ],
   "source": [
    "initial_price = all_coins_df.head(1)\n",
    "initial_price"
   ]
  },
  {
   "cell_type": "code",
   "execution_count": 51,
   "metadata": {},
   "outputs": [
    {
     "data": {
      "text/plain": [
       "array([  1.      , 970.988   ,   8.233   ,   0.00651 ,   4.389   ,\n",
       "        11.356   ,  13.532   ,   0.000224])"
      ]
     },
     "execution_count": 51,
     "metadata": {},
     "output_type": "execute_result"
    }
   ],
   "source": [
    "initial_price = np.array(initial_price)[0]\n",
    "initial_price"
   ]
  },
  {
   "cell_type": "code",
   "execution_count": 52,
   "metadata": {},
   "outputs": [],
   "source": [
    "INVEST = 1000"
   ]
  },
  {
   "cell_type": "code",
   "execution_count": 53,
   "metadata": {},
   "outputs": [
    {
     "data": {
      "text/plain": [
       "array([0.125, 0.125, 0.125, 0.125, 0.125, 0.125, 0.125, 0.125])"
      ]
     },
     "execution_count": 53,
     "metadata": {},
     "output_type": "execute_result"
    }
   ],
   "source": [
    "initial_weights = np.ones(len(tokens)) / len(tokens)\n",
    "initial_weights"
   ]
  },
  {
   "cell_type": "code",
   "execution_count": 54,
   "metadata": {},
   "outputs": [
    {
     "data": {
      "text/plain": [
       "array([   125.        ,      0.12873486,     15.18280092,  19201.22887865,\n",
       "           28.48029164,     11.00739697,      9.23736329, 558035.71428571])"
      ]
     },
     "execution_count": 54,
     "metadata": {},
     "output_type": "execute_result"
    }
   ],
   "source": [
    "initial_allocation = INVEST * initial_weights / initial_price\n",
    "initial_allocation[np.isinf(initial_allocation)] = 0\n",
    "initial_allocation"
   ]
  },
  {
   "cell_type": "code",
   "execution_count": 55,
   "metadata": {},
   "outputs": [
    {
     "data": {
      "text/plain": [
       "array([125., 125., 125., 125., 125., 125., 125., 125.])"
      ]
     },
     "execution_count": 55,
     "metadata": {},
     "output_type": "execute_result"
    }
   ],
   "source": [
    "initial_positions = initial_allocation * initial_price\n",
    "initial_positions"
   ]
  },
  {
   "cell_type": "code",
   "execution_count": 56,
   "metadata": {},
   "outputs": [
    {
     "data": {
      "text/plain": [
       "1000.0"
      ]
     },
     "execution_count": 56,
     "metadata": {},
     "output_type": "execute_result"
    }
   ],
   "source": [
    "initial_portfolio_value = initial_positions.sum().sum()\n",
    "initial_portfolio_value"
   ]
  },
  {
   "cell_type": "code",
   "execution_count": 57,
   "metadata": {},
   "outputs": [
    {
     "data": {
      "text/plain": [
       "['usd', 'btc', 'eth', 'xrp', 'ltc', 'dash', 'xmr', 'doge']"
      ]
     },
     "execution_count": 57,
     "metadata": {},
     "output_type": "execute_result"
    }
   ],
   "source": [
    "tokens"
   ]
  },
  {
   "cell_type": "code",
   "execution_count": 58,
   "metadata": {},
   "outputs": [],
   "source": [
    "hodl = {}\n",
    "rb = {}\n",
    "\n",
    "current_allocation = initial_allocation\n",
    "\n",
    "for i, current_price in all_coins_df.iterrows():\n",
    "    # hodl positions\n",
    "    hodl[i] = initial_allocation * current_price\n",
    "    \n",
    "    # current positions\n",
    "    current_positions = current_allocation * current_price\n",
    "    rb[i] = current_positions\n",
    "    \n",
    "    # rebalance\n",
    "    current_portfolio_value = current_positions.sum()\n",
    "    if(current_price.min() > 0):\n",
    "        current_allocation = current_portfolio_value * initial_weights / current_price"
   ]
  },
  {
   "cell_type": "code",
   "execution_count": 59,
   "metadata": {},
   "outputs": [],
   "source": [
    "hodl = pd.DataFrame(hodl).T\n",
    "rb = pd.DataFrame(rb).T"
   ]
  },
  {
   "cell_type": "code",
   "execution_count": 61,
   "metadata": {},
   "outputs": [
    {
     "data": {
      "text/plain": [
       "usd_price       1.000000\n",
       "btc_price     781.292000\n",
       "eth_price       8.182000\n",
       "xrp_price       0.000000\n",
       "ltc_price       3.729000\n",
       "dash_price      0.000000\n",
       "xmr_price      10.490000\n",
       "doge_price      0.000201\n",
       "dtype: float64"
      ]
     },
     "execution_count": 61,
     "metadata": {},
     "output_type": "execute_result"
    }
   ],
   "source": [
    "all_coins_df.min()"
   ]
  },
  {
   "cell_type": "code",
   "execution_count": 66,
   "metadata": {},
   "outputs": [
    {
     "data": {
      "text/plain": [
       "14771.846944417392"
      ]
     },
     "execution_count": 66,
     "metadata": {},
     "output_type": "execute_result"
    }
   ],
   "source": [
    "hodl_value.iloc[-1]"
   ]
  },
  {
   "cell_type": "code",
   "execution_count": 62,
   "metadata": {},
   "outputs": [],
   "source": [
    "hodl_value = hodl.sum(axis=1)\n",
    "rb_value = rb.sum(axis=1)\n",
    "\n",
    "hodl_perf = hodl_value.iloc[-1] / hodl_value.iloc[0]\n",
    "rb_perf = rb_value.iloc[-1] / rb_value.iloc[0]))"
   ]
  },
  {
   "cell_type": "code",
   "execution_count": 63,
   "metadata": {},
   "outputs": [
    {
     "name": "stderr",
     "output_type": "stream",
     "text": [
      "/Users/chris/Google Drive/Uct/Academic/Financial Software Engineering/Take Home exam/Answers/Q3/CryptoPortfolioTester/venv/lib/python3.7/site-packages/pandas/plotting/_converter.py:129: FutureWarning:\n",
      "\n",
      "Using an implicitly registered datetime converter for a matplotlib plotting method. The converter was registered by pandas on import. Future versions of pandas will require you to explicitly register matplotlib converters.\n",
      "\n",
      "To register the converters:\n",
      "\t>>> from pandas.plotting import register_matplotlib_converters\n",
      "\t>>> register_matplotlib_converters()\n",
      "\n"
     ]
    },
    {
     "data": {
      "image/png": "[encoded data removed]",
      "text/plain": [
       "<Figure size 1152x648 with 1 Axes>"
      ]
     },
     "metadata": {
      "needs_background": "light"
     },
     "output_type": "display_data"
    }
   ],
   "source": [
    "fig, ax = plt.subplots(1, figsize=(16, 9))\n",
    "ax.plot(hodl_value, label='hodl {:.1f}%'.format(hodl_perf * 100), linewidth=3)\n",
    "ax.plot(rb_value, label='rebalance {:.1f}%'.format(rb_perf * 100), linewidth=3)\n",
    "ax.grid(True, 'both')\n",
    "ax.set_ylabel('portfolio value [%]', fontsize=14)\n",
    "ax.legend(fontsize=16)\n",
    "ax.set_title('snapfund | periodic rebalancing', fontsize=18)\n",
    "fig.autofmt_xdate();"
   ]
  },
  {
   "cell_type": "code",
   "execution_count": null,
   "metadata": {},
   "outputs": [],
   "source": []
  }
 ],
 "metadata": {
  "kernelspec": {
   "display_name": "fse-venv-2",
   "language": "python",
   "name": "fse-venv-2"
  },
  "language_info": {
   "codemirror_mode": {
    "name": "ipython",
    "version": 3
   },
   "file_extension": ".py",
   "mimetype": "text/x-python",
   "name": "python",
   "nbconvert_exporter": "python",
   "pygments_lexer": "ipython3",
   "version": "3.7.1"
  }
 },
 "nbformat": 4,
 "nbformat_minor": 2
}
