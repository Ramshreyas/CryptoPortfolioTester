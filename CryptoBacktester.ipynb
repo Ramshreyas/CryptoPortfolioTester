{
 "cells": [
  {
   "cell_type": "code",
   "execution_count": 55,
   "metadata": {
    "scrolled": true
   },
   "outputs": [],
   "source": [
    "# load package\n",
    "from cryptory import Cryptory\n",
    "import numpy as np\n",
    "import pandas as pd\n",
    "import seaborn as sns\n",
    "import matplotlib.pyplot as plt\n",
    "import plotly.plotly as py\n",
    "import plotly.graph_objs as go\n",
    "import ssl\n",
    "\n",
    "ssl._create_default_https_context = ssl._create_unverified_context\n",
    "np.set_printoptions(suppress=True)"
   ]
  },
  {
   "cell_type": "code",
   "execution_count": 30,
   "metadata": {},
   "outputs": [
    {
     "data": {
      "text/html": [
       "<div>\n",
       "<style scoped>\n",
       "    .dataframe tbody tr th:only-of-type {\n",
       "        vertical-align: middle;\n",
       "    }\n",
       "\n",
       "    .dataframe tbody tr th {\n",
       "        vertical-align: top;\n",
       "    }\n",
       "\n",
       "    .dataframe thead th {\n",
       "        text-align: right;\n",
       "    }\n",
       "</style>\n",
       "<table border=\"1\" class=\"dataframe\">\n",
       "  <thead>\n",
       "    <tr style=\"text-align: right;\">\n",
       "      <th></th>\n",
       "      <th>date</th>\n",
       "      <th>open</th>\n",
       "      <th>high</th>\n",
       "      <th>low</th>\n",
       "      <th>close</th>\n",
       "      <th>volume</th>\n",
       "      <th>marketcap</th>\n",
       "    </tr>\n",
       "  </thead>\n",
       "  <tbody>\n",
       "    <tr>\n",
       "      <th>0</th>\n",
       "      <td>2019-05-03</td>\n",
       "      <td>5505.55</td>\n",
       "      <td>5865.88</td>\n",
       "      <td>5490.20</td>\n",
       "      <td>5768.29</td>\n",
       "      <td>18720780006</td>\n",
       "      <td>101986240859</td>\n",
       "    </tr>\n",
       "    <tr>\n",
       "      <th>1</th>\n",
       "      <td>2019-05-02</td>\n",
       "      <td>5402.42</td>\n",
       "      <td>5522.26</td>\n",
       "      <td>5394.22</td>\n",
       "      <td>5505.28</td>\n",
       "      <td>14644460907</td>\n",
       "      <td>97330112147</td>\n",
       "    </tr>\n",
       "    <tr>\n",
       "      <th>2</th>\n",
       "      <td>2019-05-01</td>\n",
       "      <td>5350.91</td>\n",
       "      <td>5418.00</td>\n",
       "      <td>5347.65</td>\n",
       "      <td>5402.70</td>\n",
       "      <td>13679528236</td>\n",
       "      <td>95501110091</td>\n",
       "    </tr>\n",
       "    <tr>\n",
       "      <th>3</th>\n",
       "      <td>2019-04-30</td>\n",
       "      <td>5247.73</td>\n",
       "      <td>5363.26</td>\n",
       "      <td>5224.19</td>\n",
       "      <td>5350.73</td>\n",
       "      <td>13878964574</td>\n",
       "      <td>94573826827</td>\n",
       "    </tr>\n",
       "    <tr>\n",
       "      <th>4</th>\n",
       "      <td>2019-04-29</td>\n",
       "      <td>5284.86</td>\n",
       "      <td>5311.27</td>\n",
       "      <td>5216.49</td>\n",
       "      <td>5247.35</td>\n",
       "      <td>13735490672</td>\n",
       "      <td>92737510865</td>\n",
       "    </tr>\n",
       "  </tbody>\n",
       "</table>\n",
       "</div>"
      ],
      "text/plain": [
       "        date     open     high      low    close       volume     marketcap\n",
       "0 2019-05-03  5505.55  5865.88  5490.20  5768.29  18720780006  101986240859\n",
       "1 2019-05-02  5402.42  5522.26  5394.22  5505.28  14644460907   97330112147\n",
       "2 2019-05-01  5350.91  5418.00  5347.65  5402.70  13679528236   95501110091\n",
       "3 2019-04-30  5247.73  5363.26  5224.19  5350.73  13878964574   94573826827\n",
       "4 2019-04-29  5284.86  5311.27  5216.49  5247.35  13735490672   92737510865"
      ]
     },
     "execution_count": 30,
     "metadata": {},
     "output_type": "execute_result"
    }
   ],
   "source": [
    "# initialise object \n",
    "# pull data from start of 2017 to present day\n",
    "my_cryptory = Cryptory(from_date = \"2017-01-01\")\n",
    "\n",
    "# get historical bitcoin prices from coinmarketcap\n",
    "my_cryptory.extract_coinmarketcap(\"bitcoin\").head()"
   ]
  },
  {
   "cell_type": "code",
   "execution_count": 442,
   "metadata": {},
   "outputs": [],
   "source": [
    "all_coins_df = my_cryptory.extract_bitinfocharts(\"btc\")\n",
    "# coins of interest\n",
    "bitinfocoins = [\"btc\", \"eth\", \"xrp\", \"ltc\", \"dash\", \"xmr\", \"doge\"]\n",
    "for coin in bitinfocoins[1:]:\n",
    "    all_coins_df = all_coins_df.merge(my_cryptory.extract_bitinfocharts(coin), on=\"date\", how=\"left\")"
   ]
  },
  {
   "cell_type": "code",
   "execution_count": 443,
   "metadata": {},
   "outputs": [
    {
     "data": {
      "text/html": [
       "<div>\n",
       "<style scoped>\n",
       "    .dataframe tbody tr th:only-of-type {\n",
       "        vertical-align: middle;\n",
       "    }\n",
       "\n",
       "    .dataframe tbody tr th {\n",
       "        vertical-align: top;\n",
       "    }\n",
       "\n",
       "    .dataframe thead th {\n",
       "        text-align: right;\n",
       "    }\n",
       "</style>\n",
       "<table border=\"1\" class=\"dataframe\">\n",
       "  <thead>\n",
       "    <tr style=\"text-align: right;\">\n",
       "      <th></th>\n",
       "      <th>btc_price</th>\n",
       "      <th>eth_price</th>\n",
       "      <th>xrp_price</th>\n",
       "      <th>ltc_price</th>\n",
       "      <th>dash_price</th>\n",
       "      <th>xmr_price</th>\n",
       "      <th>doge_price</th>\n",
       "    </tr>\n",
       "    <tr>\n",
       "      <th>date</th>\n",
       "      <th></th>\n",
       "      <th></th>\n",
       "      <th></th>\n",
       "      <th></th>\n",
       "      <th></th>\n",
       "      <th></th>\n",
       "      <th></th>\n",
       "    </tr>\n",
       "  </thead>\n",
       "  <tbody>\n",
       "    <tr>\n",
       "      <th>2017-01-01</th>\n",
       "      <td>970.988</td>\n",
       "      <td>8.233</td>\n",
       "      <td>0.00651</td>\n",
       "      <td>4.389</td>\n",
       "      <td>11.356</td>\n",
       "      <td>13.532</td>\n",
       "      <td>0.000224</td>\n",
       "    </tr>\n",
       "    <tr>\n",
       "      <th>2017-01-02</th>\n",
       "      <td>1010.000</td>\n",
       "      <td>8.182</td>\n",
       "      <td>0.00640</td>\n",
       "      <td>4.539</td>\n",
       "      <td>11.593</td>\n",
       "      <td>14.671</td>\n",
       "      <td>0.000222</td>\n",
       "    </tr>\n",
       "    <tr>\n",
       "      <th>2017-01-03</th>\n",
       "      <td>1017.000</td>\n",
       "      <td>8.811</td>\n",
       "      <td>0.00632</td>\n",
       "      <td>4.525</td>\n",
       "      <td>12.383</td>\n",
       "      <td>16.125</td>\n",
       "      <td>0.000220</td>\n",
       "    </tr>\n",
       "    <tr>\n",
       "      <th>2017-01-04</th>\n",
       "      <td>1075.000</td>\n",
       "      <td>10.440</td>\n",
       "      <td>0.00642</td>\n",
       "      <td>4.585</td>\n",
       "      <td>14.748</td>\n",
       "      <td>16.807</td>\n",
       "      <td>0.000226</td>\n",
       "    </tr>\n",
       "    <tr>\n",
       "      <th>2017-01-05</th>\n",
       "      <td>1045.000</td>\n",
       "      <td>10.479</td>\n",
       "      <td>0.00650</td>\n",
       "      <td>4.404</td>\n",
       "      <td>14.815</td>\n",
       "      <td>16.713</td>\n",
       "      <td>0.000225</td>\n",
       "    </tr>\n",
       "  </tbody>\n",
       "</table>\n",
       "</div>"
      ],
      "text/plain": [
       "            btc_price  eth_price  xrp_price  ltc_price  dash_price  xmr_price  \\\n",
       "date                                                                            \n",
       "2017-01-01    970.988      8.233    0.00651      4.389      11.356     13.532   \n",
       "2017-01-02   1010.000      8.182    0.00640      4.539      11.593     14.671   \n",
       "2017-01-03   1017.000      8.811    0.00632      4.525      12.383     16.125   \n",
       "2017-01-04   1075.000     10.440    0.00642      4.585      14.748     16.807   \n",
       "2017-01-05   1045.000     10.479    0.00650      4.404      14.815     16.713   \n",
       "\n",
       "            doge_price  \n",
       "date                    \n",
       "2017-01-01    0.000224  \n",
       "2017-01-02    0.000222  \n",
       "2017-01-03    0.000220  \n",
       "2017-01-04    0.000226  \n",
       "2017-01-05    0.000225  "
      ]
     },
     "execution_count": 443,
     "metadata": {},
     "output_type": "execute_result"
    }
   ],
   "source": [
    "all_coins_df = all_coins_df.fillna(0)\n",
    "all_coins_df.set_index('date',inplace=True)\n",
    "all_coins_df = all_coins_df.reindex(index=all_coins_df.index[::-1])\n",
    "all_coins_df.head()"
   ]
  },
  {
   "cell_type": "code",
   "execution_count": 477,
   "metadata": {},
   "outputs": [
    {
     "data": {
      "text/plain": [
       "['btc_price',\n",
       " 'eth_price',\n",
       " 'xrp_price',\n",
       " 'ltc_price',\n",
       " 'dash_price',\n",
       " 'xmr_price',\n",
       " 'doge_price']"
      ]
     },
     "execution_count": 477,
     "metadata": {},
     "output_type": "execute_result"
    }
   ],
   "source": [
    "tokens = all_coins_df.columns.tolist()\n",
    "tokens"
   ]
  },
  {
   "cell_type": "code",
   "execution_count": 445,
   "metadata": {},
   "outputs": [
    {
     "data": {
      "text/html": [
       "<div>\n",
       "<style scoped>\n",
       "    .dataframe tbody tr th:only-of-type {\n",
       "        vertical-align: middle;\n",
       "    }\n",
       "\n",
       "    .dataframe tbody tr th {\n",
       "        vertical-align: top;\n",
       "    }\n",
       "\n",
       "    .dataframe thead th {\n",
       "        text-align: right;\n",
       "    }\n",
       "</style>\n",
       "<table border=\"1\" class=\"dataframe\">\n",
       "  <thead>\n",
       "    <tr style=\"text-align: right;\">\n",
       "      <th></th>\n",
       "      <th>btc_price</th>\n",
       "      <th>eth_price</th>\n",
       "      <th>xrp_price</th>\n",
       "      <th>ltc_price</th>\n",
       "      <th>dash_price</th>\n",
       "      <th>xmr_price</th>\n",
       "      <th>doge_price</th>\n",
       "    </tr>\n",
       "    <tr>\n",
       "      <th>date</th>\n",
       "      <th></th>\n",
       "      <th></th>\n",
       "      <th></th>\n",
       "      <th></th>\n",
       "      <th></th>\n",
       "      <th></th>\n",
       "      <th></th>\n",
       "    </tr>\n",
       "  </thead>\n",
       "  <tbody>\n",
       "    <tr>\n",
       "      <th>2019-04-30</th>\n",
       "      <td>5265.0</td>\n",
       "      <td>158.496</td>\n",
       "      <td>0.306</td>\n",
       "      <td>71.086</td>\n",
       "      <td>109.446</td>\n",
       "      <td>61.716</td>\n",
       "      <td>0.00245</td>\n",
       "    </tr>\n",
       "    <tr>\n",
       "      <th>2019-05-01</th>\n",
       "      <td>5354.0</td>\n",
       "      <td>161.126</td>\n",
       "      <td>0.305</td>\n",
       "      <td>73.231</td>\n",
       "      <td>114.102</td>\n",
       "      <td>63.580</td>\n",
       "      <td>0.00250</td>\n",
       "    </tr>\n",
       "    <tr>\n",
       "      <th>2019-05-02</th>\n",
       "      <td>5432.0</td>\n",
       "      <td>160.495</td>\n",
       "      <td>0.304</td>\n",
       "      <td>73.269</td>\n",
       "      <td>116.763</td>\n",
       "      <td>64.995</td>\n",
       "      <td>0.00257</td>\n",
       "    </tr>\n",
       "    <tr>\n",
       "      <th>2019-05-03</th>\n",
       "      <td>5704.0</td>\n",
       "      <td>166.240</td>\n",
       "      <td>0.309</td>\n",
       "      <td>77.391</td>\n",
       "      <td>119.319</td>\n",
       "      <td>66.477</td>\n",
       "      <td>0.00266</td>\n",
       "    </tr>\n",
       "    <tr>\n",
       "      <th>2019-05-04</th>\n",
       "      <td>5750.0</td>\n",
       "      <td>164.132</td>\n",
       "      <td>0.302</td>\n",
       "      <td>77.448</td>\n",
       "      <td>120.244</td>\n",
       "      <td>67.009</td>\n",
       "      <td>0.00264</td>\n",
       "    </tr>\n",
       "  </tbody>\n",
       "</table>\n",
       "</div>"
      ],
      "text/plain": [
       "            btc_price  eth_price  xrp_price  ltc_price  dash_price  xmr_price  \\\n",
       "date                                                                            \n",
       "2019-04-30     5265.0    158.496      0.306     71.086     109.446     61.716   \n",
       "2019-05-01     5354.0    161.126      0.305     73.231     114.102     63.580   \n",
       "2019-05-02     5432.0    160.495      0.304     73.269     116.763     64.995   \n",
       "2019-05-03     5704.0    166.240      0.309     77.391     119.319     66.477   \n",
       "2019-05-04     5750.0    164.132      0.302     77.448     120.244     67.009   \n",
       "\n",
       "            doge_price  \n",
       "date                    \n",
       "2019-04-30     0.00245  \n",
       "2019-05-01     0.00250  \n",
       "2019-05-02     0.00257  \n",
       "2019-05-03     0.00266  \n",
       "2019-05-04     0.00264  "
      ]
     },
     "execution_count": 445,
     "metadata": {},
     "output_type": "execute_result"
    }
   ],
   "source": [
    "all_coins_df.tail()"
   ]
  },
  {
   "cell_type": "code",
   "execution_count": 448,
   "metadata": {},
   "outputs": [
    {
     "data": {
      "text/plain": [
       "DatetimeIndex(['2017-01-01', '2017-01-02', '2017-01-03', '2017-01-04',\n",
       "               '2017-01-05', '2017-01-06', '2017-01-07', '2017-01-08',\n",
       "               '2017-01-09', '2017-01-10',\n",
       "               ...\n",
       "               '2019-04-25', '2019-04-26', '2019-04-27', '2019-04-28',\n",
       "               '2019-04-29', '2019-04-30', '2019-05-01', '2019-05-02',\n",
       "               '2019-05-03', '2019-05-04'],\n",
       "              dtype='datetime64[ns]', name='date', length=854, freq=None)"
      ]
     },
     "execution_count": 448,
     "metadata": {},
     "output_type": "execute_result"
    }
   ],
   "source": [
    "all_coins_df.index"
   ]
  },
  {
   "cell_type": "code",
   "execution_count": 449,
   "metadata": {},
   "outputs": [],
   "source": [
    "data = []\n",
    "\n",
    "coinNames = iter(all_coins_df)\n",
    "next(coinNames)\n",
    "\n",
    "for index, coin in enumerate(tokens):\n",
    "    coin_chart_info = go.Scatter(\n",
    "        x = all_coins_df.index,\n",
    "        y = all_coins_df[coin].tolist(),\n",
    "        mode = 'lines',\n",
    "        name = coin[:-6])\n",
    "    data.append(coin_chart_info)\n",
    "    tokens[index] = coin[:-6]"
   ]
  },
  {
   "cell_type": "code",
   "execution_count": 450,
   "metadata": {},
   "outputs": [
    {
     "name": "stderr",
     "output_type": "stream",
     "text": [
      "/Users/chris/Google Drive/Uct/Academic/Financial Software Engineering/Take Home exam/Answers/Q3/CryptoPortfolioTester/venv/lib/python3.7/site-packages/IPython/core/display.py:689: UserWarning:\n",
      "\n",
      "Consider using IPython.display.IFrame instead\n",
      "\n"
     ]
    },
    {
     "data": {
      "text/html": [
       "<iframe id=\"igraph\" scrolling=\"no\" style=\"border:none;\" seamless=\"seamless\" src=\"https://plot.ly/~christopher.maree/28.embed\" height=\"525px\" width=\"100%\"></iframe>"
      ],
      "text/plain": [
       "<chart_studio.tools.PlotlyDisplay object>"
      ]
     },
     "execution_count": 450,
     "metadata": {},
     "output_type": "execute_result"
    }
   ],
   "source": [
    "layout = go.Layout(\n",
    "    title = \"Historic Price Over Time\")\n",
    "\n",
    "fig = dict(data=data, layout = layout)\n",
    "py.iplot(fig, filename='stacked-area-plot-hover')"
   ]
  },
  {
   "cell_type": "code",
   "execution_count": 511,
   "metadata": {},
   "outputs": [
    {
     "data": {
      "text/html": [
       "<div>\n",
       "<style scoped>\n",
       "    .dataframe tbody tr th:only-of-type {\n",
       "        vertical-align: middle;\n",
       "    }\n",
       "\n",
       "    .dataframe tbody tr th {\n",
       "        vertical-align: top;\n",
       "    }\n",
       "\n",
       "    .dataframe thead th {\n",
       "        text-align: right;\n",
       "    }\n",
       "</style>\n",
       "<table border=\"1\" class=\"dataframe\">\n",
       "  <thead>\n",
       "    <tr style=\"text-align: right;\">\n",
       "      <th></th>\n",
       "      <th>btc_price</th>\n",
       "      <th>eth_price</th>\n",
       "      <th>xrp_price</th>\n",
       "      <th>ltc_price</th>\n",
       "      <th>dash_price</th>\n",
       "      <th>xmr_price</th>\n",
       "      <th>doge_price</th>\n",
       "    </tr>\n",
       "    <tr>\n",
       "      <th>date</th>\n",
       "      <th></th>\n",
       "      <th></th>\n",
       "      <th></th>\n",
       "      <th></th>\n",
       "      <th></th>\n",
       "      <th></th>\n",
       "      <th></th>\n",
       "    </tr>\n",
       "  </thead>\n",
       "  <tbody>\n",
       "    <tr>\n",
       "      <th>2017-01-01</th>\n",
       "      <td>970.988</td>\n",
       "      <td>8.233</td>\n",
       "      <td>0.00651</td>\n",
       "      <td>4.389</td>\n",
       "      <td>11.356</td>\n",
       "      <td>13.532</td>\n",
       "      <td>0.000224</td>\n",
       "    </tr>\n",
       "  </tbody>\n",
       "</table>\n",
       "</div>"
      ],
      "text/plain": [
       "            btc_price  eth_price  xrp_price  ltc_price  dash_price  xmr_price  \\\n",
       "date                                                                            \n",
       "2017-01-01    970.988      8.233    0.00651      4.389      11.356     13.532   \n",
       "\n",
       "            doge_price  \n",
       "date                    \n",
       "2017-01-01    0.000224  "
      ]
     },
     "execution_count": 511,
     "metadata": {},
     "output_type": "execute_result"
    }
   ],
   "source": [
    "initial_price = all_coins_df.head(1)\n",
    "initial_price"
   ]
  },
  {
   "cell_type": "code",
   "execution_count": 513,
   "metadata": {},
   "outputs": [
    {
     "data": {
      "text/plain": [
       "array([970.988   ,   8.233   ,   0.00651 ,   4.389   ,  11.356   ,\n",
       "        13.532   ,   0.000224])"
      ]
     },
     "execution_count": 513,
     "metadata": {},
     "output_type": "execute_result"
    }
   ],
   "source": [
    "initial_price = np.array(initial_price)[0]\n",
    "initial_price"
   ]
  },
  {
   "cell_type": "code",
   "execution_count": 514,
   "metadata": {},
   "outputs": [],
   "source": [
    "INVEST = 1000"
   ]
  },
  {
   "cell_type": "code",
   "execution_count": 515,
   "metadata": {},
   "outputs": [
    {
     "data": {
      "text/plain": [
       "array([0.14285714, 0.14285714, 0.14285714, 0.14285714, 0.14285714,\n",
       "       0.14285714, 0.14285714])"
      ]
     },
     "execution_count": 515,
     "metadata": {},
     "output_type": "execute_result"
    }
   ],
   "source": [
    "initial_weights = np.ones(len(tokens)) / len(tokens)\n",
    "initial_weights"
   ]
  },
  {
   "cell_type": "code",
   "execution_count": 516,
   "metadata": {},
   "outputs": [
    {
     "data": {
      "text/plain": [
       "array([     0.14712555,     17.35177248,  21944.2615756 ,     32.54890473,\n",
       "           12.57988225,     10.55698661, 637755.10204082])"
      ]
     },
     "execution_count": 516,
     "metadata": {},
     "output_type": "execute_result"
    }
   ],
   "source": [
    "initial_allocation = INVEST * initial_weights / initial_price\n",
    "initial_allocation[np.isinf(initial_allocation)] = 0\n",
    "initial_allocation"
   ]
  },
  {
   "cell_type": "code",
   "execution_count": 517,
   "metadata": {},
   "outputs": [
    {
     "data": {
      "text/plain": [
       "array([142.85714286, 142.85714286, 142.85714286, 142.85714286,\n",
       "       142.85714286, 142.85714286, 142.85714286])"
      ]
     },
     "execution_count": 517,
     "metadata": {},
     "output_type": "execute_result"
    }
   ],
   "source": [
    "initial_positions = initial_allocation * initial_price\n",
    "initial_positions"
   ]
  },
  {
   "cell_type": "code",
   "execution_count": 518,
   "metadata": {},
   "outputs": [
    {
     "data": {
      "text/plain": [
       "1000.0000000000001"
      ]
     },
     "execution_count": 518,
     "metadata": {},
     "output_type": "execute_result"
    }
   ],
   "source": [
    "initial_portfolio_value = initial_positions.sum().sum()\n",
    "initial_portfolio_value"
   ]
  },
  {
   "cell_type": "code",
   "execution_count": 519,
   "metadata": {},
   "outputs": [
    {
     "data": {
      "text/plain": [
       "['btc_price',\n",
       " 'eth_price',\n",
       " 'xrp_price',\n",
       " 'ltc_price',\n",
       " 'dash_price',\n",
       " 'xmr_price',\n",
       " 'doge_price']"
      ]
     },
     "execution_count": 519,
     "metadata": {},
     "output_type": "execute_result"
    }
   ],
   "source": [
    "tokens"
   ]
  },
  {
   "cell_type": "code",
   "execution_count": 522,
   "metadata": {},
   "outputs": [],
   "source": [
    "hodl = {}\n",
    "rb = {}\n",
    "\n",
    "current_allocation = initial_allocation\n",
    "\n",
    "for i, current_price in all_coins_df.iterrows():\n",
    "    # hodl positions\n",
    "    hodl[i] = initial_allocation * current_price\n",
    "    \n",
    "    # current positions\n",
    "    current_positions = current_allocation * current_price\n",
    "    rb[i] = current_positions\n",
    "    \n",
    "    # rebalance\n",
    "    current_portfolio_value = current_positions.sum()\n",
    "    if(current_price>0):\n",
    "    current_allocation = current_portfolio_value * initial_weights / current_price"
   ]
  },
  {
   "cell_type": "code",
   "execution_count": 525,
   "metadata": {},
   "outputs": [],
   "source": [
    "hodl = pd.DataFrame(hodl).T\n",
    "rb = pd.DataFrame(rb).T"
   ]
  },
  {
   "cell_type": "code",
   "execution_count": 541,
   "metadata": {},
   "outputs": [
    {
     "data": {
      "text/plain": [
       "btc_price     781.292000\n",
       "eth_price       8.182000\n",
       "xrp_price       0.000000\n",
       "ltc_price       3.729000\n",
       "dash_price      0.000000\n",
       "xmr_price      10.490000\n",
       "doge_price      0.000201\n",
       "dtype: float64"
      ]
     },
     "execution_count": 541,
     "metadata": {},
     "output_type": "execute_result"
    }
   ],
   "source": [
    "all_coins_df.min()"
   ]
  },
  {
   "cell_type": "code",
   "execution_count": 531,
   "metadata": {},
   "outputs": [
    {
     "name": "stdout",
     "output_type": "stream",
     "text": [
      "2017-01-01    1000.000000\n",
      "2017-01-02    1021.053518\n",
      "2017-01-03    1054.086791\n",
      "2017-01-04    1134.129687\n",
      "2017-01-05    1124.949468\n",
      "2017-01-06    1040.698065\n",
      "2017-01-07     986.061420\n",
      "2017-01-08    1018.195540\n",
      "2017-01-09    1014.132874\n",
      "2017-01-10    1035.812807\n",
      "2017-01-11    1001.911331\n",
      "2017-01-12     951.050825\n",
      "2017-01-13     968.691539\n",
      "2017-01-14     977.319916\n",
      "2017-01-15     963.410829\n",
      "2017-01-16     964.433827\n",
      "2017-01-17    1006.159831\n",
      "2017-01-18    1016.232484\n",
      "2017-01-19    1025.246221\n",
      "2017-01-20    1042.530594\n",
      "2017-01-21    1040.803000\n",
      "2017-01-22    1043.041121\n",
      "2017-01-23    1038.944921\n",
      "2017-01-24    1022.078472\n",
      "2017-01-25    1006.352174\n",
      "2017-01-26    1015.742265\n",
      "2017-01-27    1032.287031\n",
      "2017-01-28    1035.177816\n",
      "2017-01-29    1035.876925\n",
      "2017-01-30    1044.437163\n",
      "                 ...     \n",
      "2019-04-05            inf\n",
      "2019-04-06            inf\n",
      "2019-04-07            inf\n",
      "2019-04-08            inf\n",
      "2019-04-09            inf\n",
      "2019-04-10            inf\n",
      "2019-04-11            inf\n",
      "2019-04-12            inf\n",
      "2019-04-13            inf\n",
      "2019-04-14            inf\n",
      "2019-04-15            inf\n",
      "2019-04-16            inf\n",
      "2019-04-17            inf\n",
      "2019-04-18            inf\n",
      "2019-04-19            inf\n",
      "2019-04-20            inf\n",
      "2019-04-21            inf\n",
      "2019-04-22            inf\n",
      "2019-04-23            inf\n",
      "2019-04-24            inf\n",
      "2019-04-25            inf\n",
      "2019-04-26            inf\n",
      "2019-04-27            inf\n",
      "2019-04-28            inf\n",
      "2019-04-29            inf\n",
      "2019-04-30            inf\n",
      "2019-05-01            inf\n",
      "2019-05-02            inf\n",
      "2019-05-03            inf\n",
      "2019-05-04            inf\n",
      "Length: 854, dtype: float64\n"
     ]
    }
   ],
   "source": [
    "hodl_value = hodl.sum(axis=1)\n",
    "# print(hodl_value)\n",
    "rb_value = rb.sum(axis=1)\n",
    "print(rb_value)\n",
    "\n",
    "hodl_perf = 1 - (1 / ((hodl_value.iloc[-1] / hodl_value.iloc[0])))\n",
    "rb_perf = 1 - (1 / ((rb_value.iloc[-1] / rb_value.iloc[0])))"
   ]
  },
  {
   "cell_type": "code",
   "execution_count": 527,
   "metadata": {},
   "outputs": [
    {
     "name": "stderr",
     "output_type": "stream",
     "text": [
      "/Users/chris/Google Drive/Uct/Academic/Financial Software Engineering/Take Home exam/Answers/Q3/CryptoPortfolioTester/venv/lib/python3.7/site-packages/pandas/plotting/_converter.py:129: FutureWarning:\n",
      "\n",
      "Using an implicitly registered datetime converter for a matplotlib plotting method. The converter was registered by pandas on import. Future versions of pandas will require you to explicitly register matplotlib converters.\n",
      "\n",
      "To register the converters:\n",
      "\t>>> from pandas.plotting import register_matplotlib_converters\n",
      "\t>>> register_matplotlib_converters()\n",
      "\n"
     ]
    },
    {
     "data": {
      "image/png": "[encoded data removed]",
      "text/plain": [
       "<Figure size 1152x648 with 1 Axes>"
      ]
     },
     "metadata": {
      "needs_background": "light"
     },
     "output_type": "display_data"
    }
   ],
   "source": [
    "fig, ax = plt.subplots(1, figsize=(16, 9))\n",
    "ax.plot(hodl_value, label='hodl {:.1f}%'.format(hodl_perf * 100), linewidth=3)\n",
    "ax.plot(rb_value, label='rebalance {:.1f}%'.format(rb_perf * 100), linewidth=3)\n",
    "ax.grid(True, 'both')\n",
    "ax.set_ylabel('portfolio value [%]', fontsize=14)\n",
    "ax.legend(fontsize=16)\n",
    "ax.set_title('snapfund | periodic rebalancing', fontsize=18)\n",
    "fig.autofmt_xdate();"
   ]
  }
 ],
 "metadata": {
  "kernelspec": {
   "display_name": "fse-venv-2",
   "language": "python",
   "name": "fse-venv-2"
  },
  "language_info": {
   "codemirror_mode": {
    "name": "ipython",
    "version": 3
   },
   "file_extension": ".py",
   "mimetype": "text/x-python",
   "name": "python",
   "nbconvert_exporter": "python",
   "pygments_lexer": "ipython3",
   "version": "3.7.1"
  }
 },
 "nbformat": 4,
 "nbformat_minor": 2
}
